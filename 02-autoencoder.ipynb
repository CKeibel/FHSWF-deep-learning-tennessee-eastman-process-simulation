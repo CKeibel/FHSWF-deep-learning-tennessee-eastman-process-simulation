{
 "cells": [
  {
   "cell_type": "code",
   "execution_count": null,
   "id": "f8875558-e752-48e1-ac01-84b17dba242f",
   "metadata": {},
   "outputs": [],
   "source": [
    "import torch\n",
    "from torch.nn import functional as F\n",
    "from torch import nn\n",
    "import numpy as np\n",
    "import pandas as pd\n",
    "import matplotlib.pyplot as plt"
   ]
  },
  {
   "cell_type": "code",
   "execution_count": null,
   "id": "e07d710d-c3e6-4d49-9ed3-64a99b1bd902",
   "metadata": {},
   "outputs": [],
   "source": [
    "device = torch.device(\"cuda:0\" if torch.cuda.is_available() else \"cpu\")\n",
    "device"
   ]
  },
  {
   "cell_type": "code",
   "execution_count": null,
   "id": "1e3eaf4a-e96a-4097-84fd-a65c0bf0de99",
   "metadata": {},
   "outputs": [],
   "source": [
    "class Encoder(nn.Module):\n",
    "    def __init__(self, input_size=128, hidden_size=16, num_layers=4):\n",
    "        super(Encoder, self).__init__()\n",
    "        self.hidden_size = hidden_size\n",
    "        self.num_layers = num_layers\n",
    "        # input: batch_size, seq_length, num_features\n",
    "        self.lstm = nn.LSTM(\n",
    "            input_size,\n",
    "            hidden_size,\n",
    "            num_layers,\n",
    "            batch_first=True,\n",
    "            bidirectional=False,\n",
    "            dropout=0.1\n",
    "        )\n",
    "\n",
    "    def forward(self, x):\n",
    "        outputs, (hn, cn) = self.lstm(x)\n",
    "        return hn[-1, :, :] # batch_size, hidden_size"
   ]
  },
  {
   "cell_type": "code",
   "execution_count": null,
   "id": "5ffc0418-ff48-426f-a8bb-439725c8aeee",
   "metadata": {},
   "outputs": [],
   "source": [
    "class Decoder(nn.Module):\n",
    "    def __init__(self, input_size=128, hidden_size=16, num_layers=4):\n",
    "        pass"
   ]
  }
 ],
 "metadata": {
  "kernelspec": {
   "display_name": ".tep-deep-learning",
   "language": "python",
   "name": ".tep-deep-learning"
  },
  "language_info": {
   "codemirror_mode": {
    "name": "ipython",
    "version": 3
   },
   "file_extension": ".py",
   "mimetype": "text/x-python",
   "name": "python",
   "nbconvert_exporter": "python",
   "pygments_lexer": "ipython3",
   "version": "3.11.0"
  }
 },
 "nbformat": 4,
 "nbformat_minor": 5
}
