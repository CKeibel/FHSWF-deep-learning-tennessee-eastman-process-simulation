{
 "cells": [
  {
   "cell_type": "code",
   "execution_count": 1,
   "id": "f8875558-e752-48e1-ac01-84b17dba242f",
   "metadata": {
    "tags": []
   },
   "outputs": [],
   "source": [
    "import torch\n",
    "from torch.nn import functional as F\n",
    "from torch import nn\n",
    "from torch.utils.data import DataLoader, Dataset\n",
    "import numpy as np\n",
    "import pandas as pd\n",
    "import matplotlib.pyplot as plt\n",
    "import glob\n",
    "import pyreadr\n",
    "from sklearn.preprocessing import StandardScaler\n",
    "from sklearn.model_selection import train_test_split\n",
    "from tqdm import tqdm"
   ]
  },
  {
   "cell_type": "markdown",
   "id": "c8f0cb32-25ed-4418-b1da-76e97cb5e869",
   "metadata": {},
   "source": [
    "# Data preprocessing"
   ]
  },
  {
   "cell_type": "code",
   "execution_count": 2,
   "id": "b0347738-3a4d-4d27-a4c3-dbded07c1124",
   "metadata": {},
   "outputs": [
    {
     "data": {
      "text/html": [
       "<div>\n",
       "<style scoped>\n",
       "    .dataframe tbody tr th:only-of-type {\n",
       "        vertical-align: middle;\n",
       "    }\n",
       "\n",
       "    .dataframe tbody tr th {\n",
       "        vertical-align: top;\n",
       "    }\n",
       "\n",
       "    .dataframe thead th {\n",
       "        text-align: right;\n",
       "    }\n",
       "</style>\n",
       "<table border=\"1\" class=\"dataframe\">\n",
       "  <thead>\n",
       "    <tr style=\"text-align: right;\">\n",
       "      <th></th>\n",
       "      <th>index</th>\n",
       "      <th>faultNumber</th>\n",
       "      <th>simulationRun</th>\n",
       "      <th>sample</th>\n",
       "      <th>xmeas_1</th>\n",
       "      <th>xmeas_2</th>\n",
       "      <th>xmeas_3</th>\n",
       "      <th>xmeas_4</th>\n",
       "      <th>xmeas_5</th>\n",
       "      <th>xmeas_6</th>\n",
       "      <th>...</th>\n",
       "      <th>xmv_2</th>\n",
       "      <th>xmv_3</th>\n",
       "      <th>xmv_4</th>\n",
       "      <th>xmv_5</th>\n",
       "      <th>xmv_6</th>\n",
       "      <th>xmv_7</th>\n",
       "      <th>xmv_8</th>\n",
       "      <th>xmv_9</th>\n",
       "      <th>xmv_10</th>\n",
       "      <th>xmv_11</th>\n",
       "    </tr>\n",
       "  </thead>\n",
       "  <tbody>\n",
       "    <tr>\n",
       "      <th>0</th>\n",
       "      <td>0</td>\n",
       "      <td>1.0</td>\n",
       "      <td>1.0</td>\n",
       "      <td>1</td>\n",
       "      <td>0.25171</td>\n",
       "      <td>3672.4</td>\n",
       "      <td>4466.3</td>\n",
       "      <td>9.5122</td>\n",
       "      <td>27.057</td>\n",
       "      <td>42.473</td>\n",
       "      <td>...</td>\n",
       "      <td>54.494</td>\n",
       "      <td>24.527</td>\n",
       "      <td>59.710</td>\n",
       "      <td>22.357</td>\n",
       "      <td>40.149</td>\n",
       "      <td>40.074</td>\n",
       "      <td>47.955</td>\n",
       "      <td>47.300</td>\n",
       "      <td>42.100</td>\n",
       "      <td>15.345</td>\n",
       "    </tr>\n",
       "    <tr>\n",
       "      <th>1</th>\n",
       "      <td>1</td>\n",
       "      <td>1.0</td>\n",
       "      <td>1.0</td>\n",
       "      <td>2</td>\n",
       "      <td>0.25234</td>\n",
       "      <td>3642.2</td>\n",
       "      <td>4568.7</td>\n",
       "      <td>9.4145</td>\n",
       "      <td>26.999</td>\n",
       "      <td>42.586</td>\n",
       "      <td>...</td>\n",
       "      <td>53.269</td>\n",
       "      <td>24.465</td>\n",
       "      <td>60.466</td>\n",
       "      <td>22.413</td>\n",
       "      <td>39.956</td>\n",
       "      <td>36.651</td>\n",
       "      <td>45.038</td>\n",
       "      <td>47.502</td>\n",
       "      <td>40.553</td>\n",
       "      <td>16.063</td>\n",
       "    </tr>\n",
       "    <tr>\n",
       "      <th>2</th>\n",
       "      <td>2</td>\n",
       "      <td>1.0</td>\n",
       "      <td>1.0</td>\n",
       "      <td>3</td>\n",
       "      <td>0.24840</td>\n",
       "      <td>3643.1</td>\n",
       "      <td>4507.5</td>\n",
       "      <td>9.2901</td>\n",
       "      <td>26.927</td>\n",
       "      <td>42.278</td>\n",
       "      <td>...</td>\n",
       "      <td>54.000</td>\n",
       "      <td>24.860</td>\n",
       "      <td>60.642</td>\n",
       "      <td>22.199</td>\n",
       "      <td>40.074</td>\n",
       "      <td>41.868</td>\n",
       "      <td>44.553</td>\n",
       "      <td>47.479</td>\n",
       "      <td>41.341</td>\n",
       "      <td>20.452</td>\n",
       "    </tr>\n",
       "    <tr>\n",
       "      <th>3</th>\n",
       "      <td>3</td>\n",
       "      <td>1.0</td>\n",
       "      <td>1.0</td>\n",
       "      <td>4</td>\n",
       "      <td>0.25153</td>\n",
       "      <td>3628.3</td>\n",
       "      <td>4519.3</td>\n",
       "      <td>9.3347</td>\n",
       "      <td>26.999</td>\n",
       "      <td>42.330</td>\n",
       "      <td>...</td>\n",
       "      <td>53.860</td>\n",
       "      <td>24.553</td>\n",
       "      <td>61.908</td>\n",
       "      <td>21.981</td>\n",
       "      <td>40.141</td>\n",
       "      <td>40.066</td>\n",
       "      <td>48.048</td>\n",
       "      <td>47.440</td>\n",
       "      <td>40.780</td>\n",
       "      <td>17.123</td>\n",
       "    </tr>\n",
       "    <tr>\n",
       "      <th>4</th>\n",
       "      <td>4</td>\n",
       "      <td>1.0</td>\n",
       "      <td>1.0</td>\n",
       "      <td>5</td>\n",
       "      <td>0.21763</td>\n",
       "      <td>3655.8</td>\n",
       "      <td>4571.0</td>\n",
       "      <td>9.3087</td>\n",
       "      <td>26.901</td>\n",
       "      <td>42.402</td>\n",
       "      <td>...</td>\n",
       "      <td>53.307</td>\n",
       "      <td>21.775</td>\n",
       "      <td>61.891</td>\n",
       "      <td>22.412</td>\n",
       "      <td>37.696</td>\n",
       "      <td>38.295</td>\n",
       "      <td>44.678</td>\n",
       "      <td>47.530</td>\n",
       "      <td>41.089</td>\n",
       "      <td>18.681</td>\n",
       "    </tr>\n",
       "    <tr>\n",
       "      <th>...</th>\n",
       "      <td>...</td>\n",
       "      <td>...</td>\n",
       "      <td>...</td>\n",
       "      <td>...</td>\n",
       "      <td>...</td>\n",
       "      <td>...</td>\n",
       "      <td>...</td>\n",
       "      <td>...</td>\n",
       "      <td>...</td>\n",
       "      <td>...</td>\n",
       "      <td>...</td>\n",
       "      <td>...</td>\n",
       "      <td>...</td>\n",
       "      <td>...</td>\n",
       "      <td>...</td>\n",
       "      <td>...</td>\n",
       "      <td>...</td>\n",
       "      <td>...</td>\n",
       "      <td>...</td>\n",
       "      <td>...</td>\n",
       "      <td>...</td>\n",
       "    </tr>\n",
       "    <tr>\n",
       "      <th>15329995</th>\n",
       "      <td>479995</td>\n",
       "      <td>0.0</td>\n",
       "      <td>500.0</td>\n",
       "      <td>956</td>\n",
       "      <td>0.26428</td>\n",
       "      <td>3671.5</td>\n",
       "      <td>4510.8</td>\n",
       "      <td>9.2852</td>\n",
       "      <td>27.141</td>\n",
       "      <td>42.297</td>\n",
       "      <td>...</td>\n",
       "      <td>53.942</td>\n",
       "      <td>26.022</td>\n",
       "      <td>61.709</td>\n",
       "      <td>22.417</td>\n",
       "      <td>40.510</td>\n",
       "      <td>36.731</td>\n",
       "      <td>50.115</td>\n",
       "      <td>52.721</td>\n",
       "      <td>40.927</td>\n",
       "      <td>18.854</td>\n",
       "    </tr>\n",
       "    <tr>\n",
       "      <th>15329996</th>\n",
       "      <td>479996</td>\n",
       "      <td>0.0</td>\n",
       "      <td>500.0</td>\n",
       "      <td>957</td>\n",
       "      <td>0.25132</td>\n",
       "      <td>3573.4</td>\n",
       "      <td>4483.9</td>\n",
       "      <td>9.2872</td>\n",
       "      <td>26.604</td>\n",
       "      <td>42.311</td>\n",
       "      <td>...</td>\n",
       "      <td>53.760</td>\n",
       "      <td>24.585</td>\n",
       "      <td>61.267</td>\n",
       "      <td>21.928</td>\n",
       "      <td>39.893</td>\n",
       "      <td>34.136</td>\n",
       "      <td>47.714</td>\n",
       "      <td>52.908</td>\n",
       "      <td>41.412</td>\n",
       "      <td>18.847</td>\n",
       "    </tr>\n",
       "    <tr>\n",
       "      <th>15329997</th>\n",
       "      <td>479997</td>\n",
       "      <td>0.0</td>\n",
       "      <td>500.0</td>\n",
       "      <td>958</td>\n",
       "      <td>0.25105</td>\n",
       "      <td>3622.6</td>\n",
       "      <td>4433.3</td>\n",
       "      <td>9.3998</td>\n",
       "      <td>26.707</td>\n",
       "      <td>41.936</td>\n",
       "      <td>...</td>\n",
       "      <td>54.366</td>\n",
       "      <td>24.613</td>\n",
       "      <td>61.745</td>\n",
       "      <td>22.212</td>\n",
       "      <td>40.098</td>\n",
       "      <td>35.585</td>\n",
       "      <td>48.241</td>\n",
       "      <td>53.099</td>\n",
       "      <td>40.150</td>\n",
       "      <td>16.791</td>\n",
       "    </tr>\n",
       "    <tr>\n",
       "      <th>15329998</th>\n",
       "      <td>479998</td>\n",
       "      <td>0.0</td>\n",
       "      <td>500.0</td>\n",
       "      <td>959</td>\n",
       "      <td>0.24521</td>\n",
       "      <td>3660.5</td>\n",
       "      <td>4485.2</td>\n",
       "      <td>9.3885</td>\n",
       "      <td>26.936</td>\n",
       "      <td>42.639</td>\n",
       "      <td>...</td>\n",
       "      <td>53.289</td>\n",
       "      <td>24.371</td>\n",
       "      <td>62.811</td>\n",
       "      <td>22.249</td>\n",
       "      <td>39.536</td>\n",
       "      <td>35.609</td>\n",
       "      <td>46.495</td>\n",
       "      <td>53.157</td>\n",
       "      <td>41.065</td>\n",
       "      <td>17.097</td>\n",
       "    </tr>\n",
       "    <tr>\n",
       "      <th>15329999</th>\n",
       "      <td>479999</td>\n",
       "      <td>0.0</td>\n",
       "      <td>500.0</td>\n",
       "      <td>960</td>\n",
       "      <td>0.24373</td>\n",
       "      <td>3652.1</td>\n",
       "      <td>4471.8</td>\n",
       "      <td>9.4359</td>\n",
       "      <td>27.309</td>\n",
       "      <td>42.015</td>\n",
       "      <td>...</td>\n",
       "      <td>53.450</td>\n",
       "      <td>24.516</td>\n",
       "      <td>60.734</td>\n",
       "      <td>22.731</td>\n",
       "      <td>39.131</td>\n",
       "      <td>39.078</td>\n",
       "      <td>43.477</td>\n",
       "      <td>53.407</td>\n",
       "      <td>41.596</td>\n",
       "      <td>16.697</td>\n",
       "    </tr>\n",
       "  </tbody>\n",
       "</table>\n",
       "<p>15330000 rows × 56 columns</p>\n",
       "</div>"
      ],
      "text/plain": [
       "           index  faultNumber  simulationRun  sample  xmeas_1  xmeas_2   \n",
       "0              0          1.0            1.0       1  0.25171   3672.4  \\\n",
       "1              1          1.0            1.0       2  0.25234   3642.2   \n",
       "2              2          1.0            1.0       3  0.24840   3643.1   \n",
       "3              3          1.0            1.0       4  0.25153   3628.3   \n",
       "4              4          1.0            1.0       5  0.21763   3655.8   \n",
       "...          ...          ...            ...     ...      ...      ...   \n",
       "15329995  479995          0.0          500.0     956  0.26428   3671.5   \n",
       "15329996  479996          0.0          500.0     957  0.25132   3573.4   \n",
       "15329997  479997          0.0          500.0     958  0.25105   3622.6   \n",
       "15329998  479998          0.0          500.0     959  0.24521   3660.5   \n",
       "15329999  479999          0.0          500.0     960  0.24373   3652.1   \n",
       "\n",
       "          xmeas_3  xmeas_4  xmeas_5  xmeas_6  ...   xmv_2   xmv_3   xmv_4   \n",
       "0          4466.3   9.5122   27.057   42.473  ...  54.494  24.527  59.710  \\\n",
       "1          4568.7   9.4145   26.999   42.586  ...  53.269  24.465  60.466   \n",
       "2          4507.5   9.2901   26.927   42.278  ...  54.000  24.860  60.642   \n",
       "3          4519.3   9.3347   26.999   42.330  ...  53.860  24.553  61.908   \n",
       "4          4571.0   9.3087   26.901   42.402  ...  53.307  21.775  61.891   \n",
       "...           ...      ...      ...      ...  ...     ...     ...     ...   \n",
       "15329995   4510.8   9.2852   27.141   42.297  ...  53.942  26.022  61.709   \n",
       "15329996   4483.9   9.2872   26.604   42.311  ...  53.760  24.585  61.267   \n",
       "15329997   4433.3   9.3998   26.707   41.936  ...  54.366  24.613  61.745   \n",
       "15329998   4485.2   9.3885   26.936   42.639  ...  53.289  24.371  62.811   \n",
       "15329999   4471.8   9.4359   27.309   42.015  ...  53.450  24.516  60.734   \n",
       "\n",
       "           xmv_5   xmv_6   xmv_7   xmv_8   xmv_9  xmv_10  xmv_11  \n",
       "0         22.357  40.149  40.074  47.955  47.300  42.100  15.345  \n",
       "1         22.413  39.956  36.651  45.038  47.502  40.553  16.063  \n",
       "2         22.199  40.074  41.868  44.553  47.479  41.341  20.452  \n",
       "3         21.981  40.141  40.066  48.048  47.440  40.780  17.123  \n",
       "4         22.412  37.696  38.295  44.678  47.530  41.089  18.681  \n",
       "...          ...     ...     ...     ...     ...     ...     ...  \n",
       "15329995  22.417  40.510  36.731  50.115  52.721  40.927  18.854  \n",
       "15329996  21.928  39.893  34.136  47.714  52.908  41.412  18.847  \n",
       "15329997  22.212  40.098  35.585  48.241  53.099  40.150  16.791  \n",
       "15329998  22.249  39.536  35.609  46.495  53.157  41.065  17.097  \n",
       "15329999  22.731  39.131  39.078  43.477  53.407  41.596  16.697  \n",
       "\n",
       "[15330000 rows x 56 columns]"
      ]
     },
     "execution_count": 2,
     "metadata": {},
     "output_type": "execute_result"
    }
   ],
   "source": [
    "# load data\n",
    "df = pd.DataFrame()\n",
    "\n",
    "for path in glob.glob(\"data/*.RData\"):\n",
    "    _df = pyreadr.read_r(path)\n",
    "    k = list(_df.keys())[0]\n",
    "    _df =  _df[k]\n",
    "    df = pd.concat([df, _df])\n",
    "\n",
    "df = df.reset_index()\n",
    "df"
   ]
  },
  {
   "cell_type": "code",
   "execution_count": 3,
   "id": "be0acaca-9f75-432d-96e1-be13f1ae8658",
   "metadata": {},
   "outputs": [],
   "source": [
    "# preprocess data\n",
    "df[\"faultNumber\"] = df[\"faultNumber\"].astype(int)\n",
    "df = df.drop([\"simulationRun\", \"sample\", \"index\"], axis=1)"
   ]
  },
  {
   "cell_type": "code",
   "execution_count": 4,
   "id": "d01a8a8e-c6be-4163-ab47-2501f81d464e",
   "metadata": {},
   "outputs": [],
   "source": [
    "# remove 3, 9 and 15\n",
    "mask = ~df[\"faultNumber\"].isin([3, 9, 15])"
   ]
  },
  {
   "cell_type": "code",
   "execution_count": 5,
   "id": "b4c2db25-f3c7-4931-b47a-1ad7d46c3013",
   "metadata": {},
   "outputs": [
    {
     "data": {
      "text/plain": [
       "array([ 1,  2,  4,  5,  6,  7,  8, 10, 11, 12, 13, 14, 16, 17, 18, 19, 20,\n",
       "        0])"
      ]
     },
     "execution_count": 5,
     "metadata": {},
     "output_type": "execute_result"
    }
   ],
   "source": [
    "df = df[mask]\n",
    "df[\"faultNumber\"].unique()"
   ]
  },
  {
   "cell_type": "code",
   "execution_count": 6,
   "id": "730b095e-2205-49bc-a222-7206b53af6d9",
   "metadata": {},
   "outputs": [
    {
     "data": {
      "text/plain": [
       "((13140000, 52), (13140000,))"
      ]
     },
     "execution_count": 6,
     "metadata": {},
     "output_type": "execute_result"
    }
   ],
   "source": [
    "# features\n",
    "X = df.loc[:, df.columns != \"faultNumber\"].values\n",
    "# labels\n",
    "y = df[\"faultNumber\"].values\n",
    "\n",
    "X.shape, y.shape"
   ]
  },
  {
   "cell_type": "code",
   "execution_count": 7,
   "id": "549c1a15-939e-4fb9-9a7f-d51afd8f480c",
   "metadata": {
    "tags": []
   },
   "outputs": [
    {
     "data": {
      "text/plain": [
       "Index(['xmeas_1', 'xmeas_2', 'xmeas_3', 'xmeas_4', 'xmeas_5', 'xmeas_6',\n",
       "       'xmeas_7', 'xmeas_8', 'xmeas_9', 'xmeas_10', 'xmeas_11', 'xmeas_12',\n",
       "       'xmeas_13', 'xmeas_14', 'xmeas_15', 'xmeas_16', 'xmeas_17', 'xmeas_18',\n",
       "       'xmeas_19', 'xmeas_20', 'xmeas_21', 'xmeas_22', 'xmeas_23', 'xmeas_24',\n",
       "       'xmeas_25', 'xmeas_26', 'xmeas_27', 'xmeas_28', 'xmeas_29', 'xmeas_30',\n",
       "       'xmeas_31', 'xmeas_32', 'xmeas_33', 'xmeas_34', 'xmeas_35', 'xmeas_36',\n",
       "       'xmeas_37', 'xmeas_38', 'xmeas_39', 'xmeas_40', 'xmeas_41', 'xmv_1',\n",
       "       'xmv_2', 'xmv_3', 'xmv_4', 'xmv_5', 'xmv_6', 'xmv_7', 'xmv_8', 'xmv_9',\n",
       "       'xmv_10', 'xmv_11'],\n",
       "      dtype='object')"
      ]
     },
     "execution_count": 7,
     "metadata": {},
     "output_type": "execute_result"
    }
   ],
   "source": [
    "df.columns[df.columns != \"faultNumber\"]"
   ]
  },
  {
   "cell_type": "code",
   "execution_count": 8,
   "id": "37d10c15-d0ff-4db2-b32a-eb6351867700",
   "metadata": {
    "tags": []
   },
   "outputs": [
    {
     "data": {
      "text/plain": [
       "(13140000, 52)"
      ]
     },
     "execution_count": 8,
     "metadata": {},
     "output_type": "execute_result"
    }
   ],
   "source": [
    "scaler = StandardScaler()\n",
    "scaled_X = scaler.fit_transform(X)\n",
    "scaled_X.shape"
   ]
  },
  {
   "cell_type": "code",
   "execution_count": 9,
   "id": "99a513bc-c5dd-4666-bc92-c701ed3a0d9e",
   "metadata": {
    "tags": []
   },
   "outputs": [
    {
     "data": {
      "text/html": [
       "<div>\n",
       "<style scoped>\n",
       "    .dataframe tbody tr th:only-of-type {\n",
       "        vertical-align: middle;\n",
       "    }\n",
       "\n",
       "    .dataframe tbody tr th {\n",
       "        vertical-align: top;\n",
       "    }\n",
       "\n",
       "    .dataframe thead th {\n",
       "        text-align: right;\n",
       "    }\n",
       "</style>\n",
       "<table border=\"1\" class=\"dataframe\">\n",
       "  <thead>\n",
       "    <tr style=\"text-align: right;\">\n",
       "      <th></th>\n",
       "      <th>xmeas_1</th>\n",
       "      <th>xmeas_2</th>\n",
       "      <th>xmeas_3</th>\n",
       "      <th>xmeas_4</th>\n",
       "      <th>xmeas_5</th>\n",
       "      <th>xmeas_6</th>\n",
       "      <th>xmeas_7</th>\n",
       "      <th>xmeas_8</th>\n",
       "      <th>xmeas_9</th>\n",
       "      <th>xmeas_10</th>\n",
       "      <th>...</th>\n",
       "      <th>xmv_2</th>\n",
       "      <th>xmv_3</th>\n",
       "      <th>xmv_4</th>\n",
       "      <th>xmv_5</th>\n",
       "      <th>xmv_6</th>\n",
       "      <th>xmv_7</th>\n",
       "      <th>xmv_8</th>\n",
       "      <th>xmv_9</th>\n",
       "      <th>xmv_10</th>\n",
       "      <th>xmv_11</th>\n",
       "    </tr>\n",
       "  </thead>\n",
       "  <tbody>\n",
       "    <tr>\n",
       "      <th>0</th>\n",
       "      <td>-0.048403</td>\n",
       "      <td>0.172463</td>\n",
       "      <td>-0.370896</td>\n",
       "      <td>0.317190</td>\n",
       "      <td>0.674038</td>\n",
       "      <td>0.295625</td>\n",
       "      <td>-0.255480</td>\n",
       "      <td>-0.073291</td>\n",
       "      <td>0.133912</td>\n",
       "      <td>-0.109065</td>\n",
       "      <td>...</td>\n",
       "      <td>-0.023099</td>\n",
       "      <td>-0.276875</td>\n",
       "      <td>-0.466629</td>\n",
       "      <td>-0.071480</td>\n",
       "      <td>0.052982</td>\n",
       "      <td>0.688629</td>\n",
       "      <td>0.655752</td>\n",
       "      <td>-0.156733</td>\n",
       "      <td>-0.000211</td>\n",
       "      <td>-0.485108</td>\n",
       "    </tr>\n",
       "    <tr>\n",
       "      <th>1</th>\n",
       "      <td>-0.044249</td>\n",
       "      <td>-0.510475</td>\n",
       "      <td>0.523796</td>\n",
       "      <td>0.069667</td>\n",
       "      <td>0.422894</td>\n",
       "      <td>0.638373</td>\n",
       "      <td>-0.260356</td>\n",
       "      <td>0.202214</td>\n",
       "      <td>-0.273659</td>\n",
       "      <td>-0.090802</td>\n",
       "      <td>...</td>\n",
       "      <td>-0.191197</td>\n",
       "      <td>-0.279855</td>\n",
       "      <td>-0.380834</td>\n",
       "      <td>-0.067129</td>\n",
       "      <td>0.039000</td>\n",
       "      <td>-0.476264</td>\n",
       "      <td>-0.587066</td>\n",
       "      <td>-0.145792</td>\n",
       "      <td>-0.130463</td>\n",
       "      <td>-0.397765</td>\n",
       "    </tr>\n",
       "    <tr>\n",
       "      <th>2</th>\n",
       "      <td>-0.070227</td>\n",
       "      <td>-0.490122</td>\n",
       "      <td>-0.010922</td>\n",
       "      <td>-0.245500</td>\n",
       "      <td>0.111128</td>\n",
       "      <td>-0.295842</td>\n",
       "      <td>-0.281081</td>\n",
       "      <td>-0.227164</td>\n",
       "      <td>-0.273659</td>\n",
       "      <td>-0.102173</td>\n",
       "      <td>...</td>\n",
       "      <td>-0.090887</td>\n",
       "      <td>-0.260867</td>\n",
       "      <td>-0.360861</td>\n",
       "      <td>-0.083757</td>\n",
       "      <td>0.047548</td>\n",
       "      <td>1.299152</td>\n",
       "      <td>-0.793705</td>\n",
       "      <td>-0.147038</td>\n",
       "      <td>-0.064116</td>\n",
       "      <td>0.136149</td>\n",
       "    </tr>\n",
       "  </tbody>\n",
       "</table>\n",
       "<p>3 rows × 52 columns</p>\n",
       "</div>"
      ],
      "text/plain": [
       "    xmeas_1   xmeas_2   xmeas_3   xmeas_4   xmeas_5   xmeas_6   xmeas_7   \n",
       "0 -0.048403  0.172463 -0.370896  0.317190  0.674038  0.295625 -0.255480  \\\n",
       "1 -0.044249 -0.510475  0.523796  0.069667  0.422894  0.638373 -0.260356   \n",
       "2 -0.070227 -0.490122 -0.010922 -0.245500  0.111128 -0.295842 -0.281081   \n",
       "\n",
       "    xmeas_8   xmeas_9  xmeas_10  ...     xmv_2     xmv_3     xmv_4     xmv_5   \n",
       "0 -0.073291  0.133912 -0.109065  ... -0.023099 -0.276875 -0.466629 -0.071480  \\\n",
       "1  0.202214 -0.273659 -0.090802  ... -0.191197 -0.279855 -0.380834 -0.067129   \n",
       "2 -0.227164 -0.273659 -0.102173  ... -0.090887 -0.260867 -0.360861 -0.083757   \n",
       "\n",
       "      xmv_6     xmv_7     xmv_8     xmv_9    xmv_10    xmv_11  \n",
       "0  0.052982  0.688629  0.655752 -0.156733 -0.000211 -0.485108  \n",
       "1  0.039000 -0.476264 -0.587066 -0.145792 -0.130463 -0.397765  \n",
       "2  0.047548  1.299152 -0.793705 -0.147038 -0.064116  0.136149  \n",
       "\n",
       "[3 rows x 52 columns]"
      ]
     },
     "execution_count": 9,
     "metadata": {},
     "output_type": "execute_result"
    }
   ],
   "source": [
    "scaled_df = pd.DataFrame(scaled_X, columns=df.columns[df.columns != \"faultNumber\"])\n",
    "scaled_df.head(3)"
   ]
  },
  {
   "cell_type": "code",
   "execution_count": 10,
   "id": "b69feaf6-a9c6-4569-ab79-36993174bb63",
   "metadata": {
    "tags": []
   },
   "outputs": [
    {
     "data": {
      "text/html": [
       "<div>\n",
       "<style scoped>\n",
       "    .dataframe tbody tr th:only-of-type {\n",
       "        vertical-align: middle;\n",
       "    }\n",
       "\n",
       "    .dataframe tbody tr th {\n",
       "        vertical-align: top;\n",
       "    }\n",
       "\n",
       "    .dataframe thead th {\n",
       "        text-align: right;\n",
       "    }\n",
       "</style>\n",
       "<table border=\"1\" class=\"dataframe\">\n",
       "  <thead>\n",
       "    <tr style=\"text-align: right;\">\n",
       "      <th></th>\n",
       "      <th>xmeas_1</th>\n",
       "      <th>xmeas_2</th>\n",
       "      <th>xmeas_3</th>\n",
       "      <th>xmeas_4</th>\n",
       "      <th>xmeas_5</th>\n",
       "      <th>xmeas_6</th>\n",
       "      <th>xmeas_7</th>\n",
       "      <th>xmeas_8</th>\n",
       "      <th>xmeas_9</th>\n",
       "      <th>xmeas_10</th>\n",
       "      <th>...</th>\n",
       "      <th>xmv_2</th>\n",
       "      <th>xmv_3</th>\n",
       "      <th>xmv_4</th>\n",
       "      <th>xmv_5</th>\n",
       "      <th>xmv_6</th>\n",
       "      <th>xmv_7</th>\n",
       "      <th>xmv_8</th>\n",
       "      <th>xmv_9</th>\n",
       "      <th>xmv_10</th>\n",
       "      <th>xmv_11</th>\n",
       "    </tr>\n",
       "  </thead>\n",
       "  <tbody>\n",
       "    <tr>\n",
       "      <th>count</th>\n",
       "      <td>1.314000e+07</td>\n",
       "      <td>1.314000e+07</td>\n",
       "      <td>1.314000e+07</td>\n",
       "      <td>1.314000e+07</td>\n",
       "      <td>1.314000e+07</td>\n",
       "      <td>1.314000e+07</td>\n",
       "      <td>1.314000e+07</td>\n",
       "      <td>1.314000e+07</td>\n",
       "      <td>1.314000e+07</td>\n",
       "      <td>1.314000e+07</td>\n",
       "      <td>...</td>\n",
       "      <td>1.314000e+07</td>\n",
       "      <td>1.314000e+07</td>\n",
       "      <td>1.314000e+07</td>\n",
       "      <td>1.314000e+07</td>\n",
       "      <td>1.314000e+07</td>\n",
       "      <td>1.314000e+07</td>\n",
       "      <td>1.314000e+07</td>\n",
       "      <td>1.314000e+07</td>\n",
       "      <td>1.314000e+07</td>\n",
       "      <td>1.314000e+07</td>\n",
       "    </tr>\n",
       "    <tr>\n",
       "      <th>mean</th>\n",
       "      <td>-3.357430e-15</td>\n",
       "      <td>1.076080e-13</td>\n",
       "      <td>-1.378798e-14</td>\n",
       "      <td>1.229276e-15</td>\n",
       "      <td>7.041854e-14</td>\n",
       "      <td>2.432180e-14</td>\n",
       "      <td>9.094791e-15</td>\n",
       "      <td>1.181620e-14</td>\n",
       "      <td>3.622382e-13</td>\n",
       "      <td>-1.088897e-15</td>\n",
       "      <td>...</td>\n",
       "      <td>-2.193034e-14</td>\n",
       "      <td>-4.550837e-16</td>\n",
       "      <td>1.487936e-14</td>\n",
       "      <td>2.797783e-15</td>\n",
       "      <td>3.200637e-16</td>\n",
       "      <td>-1.489629e-14</td>\n",
       "      <td>2.200443e-14</td>\n",
       "      <td>-2.173475e-15</td>\n",
       "      <td>-4.599987e-15</td>\n",
       "      <td>-1.466808e-15</td>\n",
       "    </tr>\n",
       "    <tr>\n",
       "      <th>std</th>\n",
       "      <td>1.000000e+00</td>\n",
       "      <td>1.000000e+00</td>\n",
       "      <td>1.000000e+00</td>\n",
       "      <td>1.000000e+00</td>\n",
       "      <td>1.000000e+00</td>\n",
       "      <td>1.000000e+00</td>\n",
       "      <td>1.000000e+00</td>\n",
       "      <td>1.000000e+00</td>\n",
       "      <td>1.000000e+00</td>\n",
       "      <td>1.000000e+00</td>\n",
       "      <td>...</td>\n",
       "      <td>1.000000e+00</td>\n",
       "      <td>1.000000e+00</td>\n",
       "      <td>1.000000e+00</td>\n",
       "      <td>1.000000e+00</td>\n",
       "      <td>1.000000e+00</td>\n",
       "      <td>1.000000e+00</td>\n",
       "      <td>1.000000e+00</td>\n",
       "      <td>1.000000e+00</td>\n",
       "      <td>1.000000e+00</td>\n",
       "      <td>1.000000e+00</td>\n",
       "    </tr>\n",
       "    <tr>\n",
       "      <th>min</th>\n",
       "      <td>-1.740879e+00</td>\n",
       "      <td>-8.058969e+00</td>\n",
       "      <td>-8.458078e+00</td>\n",
       "      <td>-6.959772e+00</td>\n",
       "      <td>-6.726066e+00</td>\n",
       "      <td>-8.248797e+00</td>\n",
       "      <td>-3.812835e+00</td>\n",
       "      <td>-1.005158e+01</td>\n",
       "      <td>-1.073464e+01</td>\n",
       "      <td>-3.762003e+00</td>\n",
       "      <td>...</td>\n",
       "      <td>-6.492572e+00</td>\n",
       "      <td>-1.473142e+00</td>\n",
       "      <td>-7.243393e+00</td>\n",
       "      <td>-1.816945e+00</td>\n",
       "      <td>-2.855521e+00</td>\n",
       "      <td>-5.364186e+00</td>\n",
       "      <td>-5.558764e+00</td>\n",
       "      <td>-2.755571e+00</td>\n",
       "      <td>-3.588298e+00</td>\n",
       "      <td>-2.352624e+00</td>\n",
       "    </tr>\n",
       "    <tr>\n",
       "      <th>25%</th>\n",
       "      <td>-2.778506e-01</td>\n",
       "      <td>-6.325895e-01</td>\n",
       "      <td>-3.394423e-01</td>\n",
       "      <td>-3.047835e-01</td>\n",
       "      <td>-5.990048e-01</td>\n",
       "      <td>-5.718597e-01</td>\n",
       "      <td>-3.505700e-01</td>\n",
       "      <td>-3.180223e-01</td>\n",
       "      <td>-2.736590e-01</td>\n",
       "      <td>-2.699887e-01</td>\n",
       "      <td>...</td>\n",
       "      <td>-1.584009e-01</td>\n",
       "      <td>-3.899846e-01</td>\n",
       "      <td>-3.967221e-01</td>\n",
       "      <td>-1.437417e-01</td>\n",
       "      <td>-8.705024e-02</td>\n",
       "      <td>-6.947449e-01</td>\n",
       "      <td>-6.641828e-01</td>\n",
       "      <td>-2.670049e-01</td>\n",
       "      <td>-1.289475e-01</td>\n",
       "      <td>-2.688179e-01</td>\n",
       "    </tr>\n",
       "    <tr>\n",
       "      <th>50%</th>\n",
       "      <td>-5.512817e-02</td>\n",
       "      <td>-2.201628e-02</td>\n",
       "      <td>3.930875e-03</td>\n",
       "      <td>-7.474204e-02</td>\n",
       "      <td>-5.783974e-03</td>\n",
       "      <td>-7.442083e-02</td>\n",
       "      <td>-2.554797e-01</td>\n",
       "      <td>6.812522e-02</td>\n",
       "      <td>-1.945255e-03</td>\n",
       "      <td>-1.143486e-01</td>\n",
       "      <td>...</td>\n",
       "      <td>-9.376873e-02</td>\n",
       "      <td>-2.452922e-01</td>\n",
       "      <td>-2.602000e-01</td>\n",
       "      <td>-8.973954e-02</td>\n",
       "      <td>3.639215e-02</td>\n",
       "      <td>2.637937e-02</td>\n",
       "      <td>-4.895167e-02</td>\n",
       "      <td>-1.139454e-01</td>\n",
       "      <td>-7.539861e-02</td>\n",
       "      <td>-1.264895e-01</td>\n",
       "    </tr>\n",
       "    <tr>\n",
       "      <th>75%</th>\n",
       "      <td>1.561219e-01</td>\n",
       "      <td>5.953411e-01</td>\n",
       "      <td>3.560413e-01</td>\n",
       "      <td>1.917818e-01</td>\n",
       "      <td>6.047572e-01</td>\n",
       "      <td>4.715487e-01</td>\n",
       "      <td>-1.396645e-01</td>\n",
       "      <td>4.220327e-01</td>\n",
       "      <td>2.697684e-01</td>\n",
       "      <td>2.877147e-02</td>\n",
       "      <td>...</td>\n",
       "      <td>-2.748989e-02</td>\n",
       "      <td>-7.411293e-02</td>\n",
       "      <td>-1.013214e-01</td>\n",
       "      <td>-4.265276e-02</td>\n",
       "      <td>1.483161e-01</td>\n",
       "      <td>6.474515e-01</td>\n",
       "      <td>6.757770e-01</td>\n",
       "      <td>9.879972e-02</td>\n",
       "      <td>-1.081993e-02</td>\n",
       "      <td>2.763879e-02</td>\n",
       "    </tr>\n",
       "    <tr>\n",
       "      <th>max</th>\n",
       "      <td>5.000698e+00</td>\n",
       "      <td>5.470881e+00</td>\n",
       "      <td>5.828169e+00</td>\n",
       "      <td>7.228061e+00</td>\n",
       "      <td>7.203797e+00</td>\n",
       "      <td>6.907922e+00</td>\n",
       "      <td>3.339668e+00</td>\n",
       "      <td>9.041109e+00</td>\n",
       "      <td>8.285323e+00</td>\n",
       "      <td>5.453893e+00</td>\n",
       "      <td>...</td>\n",
       "      <td>6.221384e+00</td>\n",
       "      <td>3.361250e+00</td>\n",
       "      <td>4.107940e+00</td>\n",
       "      <td>5.970003e+00</td>\n",
       "      <td>4.209672e+00</td>\n",
       "      <td>5.506107e+00</td>\n",
       "      <td>5.879678e+00</td>\n",
       "      <td>2.728975e+00</td>\n",
       "      <td>4.926123e+00</td>\n",
       "      <td>9.814238e+00</td>\n",
       "    </tr>\n",
       "  </tbody>\n",
       "</table>\n",
       "<p>8 rows × 52 columns</p>\n",
       "</div>"
      ],
      "text/plain": [
       "            xmeas_1       xmeas_2       xmeas_3       xmeas_4       xmeas_5   \n",
       "count  1.314000e+07  1.314000e+07  1.314000e+07  1.314000e+07  1.314000e+07  \\\n",
       "mean  -3.357430e-15  1.076080e-13 -1.378798e-14  1.229276e-15  7.041854e-14   \n",
       "std    1.000000e+00  1.000000e+00  1.000000e+00  1.000000e+00  1.000000e+00   \n",
       "min   -1.740879e+00 -8.058969e+00 -8.458078e+00 -6.959772e+00 -6.726066e+00   \n",
       "25%   -2.778506e-01 -6.325895e-01 -3.394423e-01 -3.047835e-01 -5.990048e-01   \n",
       "50%   -5.512817e-02 -2.201628e-02  3.930875e-03 -7.474204e-02 -5.783974e-03   \n",
       "75%    1.561219e-01  5.953411e-01  3.560413e-01  1.917818e-01  6.047572e-01   \n",
       "max    5.000698e+00  5.470881e+00  5.828169e+00  7.228061e+00  7.203797e+00   \n",
       "\n",
       "            xmeas_6       xmeas_7       xmeas_8       xmeas_9      xmeas_10   \n",
       "count  1.314000e+07  1.314000e+07  1.314000e+07  1.314000e+07  1.314000e+07  \\\n",
       "mean   2.432180e-14  9.094791e-15  1.181620e-14  3.622382e-13 -1.088897e-15   \n",
       "std    1.000000e+00  1.000000e+00  1.000000e+00  1.000000e+00  1.000000e+00   \n",
       "min   -8.248797e+00 -3.812835e+00 -1.005158e+01 -1.073464e+01 -3.762003e+00   \n",
       "25%   -5.718597e-01 -3.505700e-01 -3.180223e-01 -2.736590e-01 -2.699887e-01   \n",
       "50%   -7.442083e-02 -2.554797e-01  6.812522e-02 -1.945255e-03 -1.143486e-01   \n",
       "75%    4.715487e-01 -1.396645e-01  4.220327e-01  2.697684e-01  2.877147e-02   \n",
       "max    6.907922e+00  3.339668e+00  9.041109e+00  8.285323e+00  5.453893e+00   \n",
       "\n",
       "       ...         xmv_2         xmv_3         xmv_4         xmv_5   \n",
       "count  ...  1.314000e+07  1.314000e+07  1.314000e+07  1.314000e+07  \\\n",
       "mean   ... -2.193034e-14 -4.550837e-16  1.487936e-14  2.797783e-15   \n",
       "std    ...  1.000000e+00  1.000000e+00  1.000000e+00  1.000000e+00   \n",
       "min    ... -6.492572e+00 -1.473142e+00 -7.243393e+00 -1.816945e+00   \n",
       "25%    ... -1.584009e-01 -3.899846e-01 -3.967221e-01 -1.437417e-01   \n",
       "50%    ... -9.376873e-02 -2.452922e-01 -2.602000e-01 -8.973954e-02   \n",
       "75%    ... -2.748989e-02 -7.411293e-02 -1.013214e-01 -4.265276e-02   \n",
       "max    ...  6.221384e+00  3.361250e+00  4.107940e+00  5.970003e+00   \n",
       "\n",
       "              xmv_6         xmv_7         xmv_8         xmv_9        xmv_10   \n",
       "count  1.314000e+07  1.314000e+07  1.314000e+07  1.314000e+07  1.314000e+07  \\\n",
       "mean   3.200637e-16 -1.489629e-14  2.200443e-14 -2.173475e-15 -4.599987e-15   \n",
       "std    1.000000e+00  1.000000e+00  1.000000e+00  1.000000e+00  1.000000e+00   \n",
       "min   -2.855521e+00 -5.364186e+00 -5.558764e+00 -2.755571e+00 -3.588298e+00   \n",
       "25%   -8.705024e-02 -6.947449e-01 -6.641828e-01 -2.670049e-01 -1.289475e-01   \n",
       "50%    3.639215e-02  2.637937e-02 -4.895167e-02 -1.139454e-01 -7.539861e-02   \n",
       "75%    1.483161e-01  6.474515e-01  6.757770e-01  9.879972e-02 -1.081993e-02   \n",
       "max    4.209672e+00  5.506107e+00  5.879678e+00  2.728975e+00  4.926123e+00   \n",
       "\n",
       "             xmv_11  \n",
       "count  1.314000e+07  \n",
       "mean  -1.466808e-15  \n",
       "std    1.000000e+00  \n",
       "min   -2.352624e+00  \n",
       "25%   -2.688179e-01  \n",
       "50%   -1.264895e-01  \n",
       "75%    2.763879e-02  \n",
       "max    9.814238e+00  \n",
       "\n",
       "[8 rows x 52 columns]"
      ]
     },
     "execution_count": 10,
     "metadata": {},
     "output_type": "execute_result"
    }
   ],
   "source": [
    "scaled_df.describe()"
   ]
  },
  {
   "cell_type": "code",
   "execution_count": 11,
   "id": "aec06a15-0cbc-4501-93ec-b3868b473434",
   "metadata": {},
   "outputs": [],
   "source": [
    "def create_samples(X, y, lookback=5):\n",
    "    x_out = []\n",
    "    y_out = []\n",
    "    with tqdm(total=len(X)-lookback-1) as pbar:\n",
    "        for i in range(len(X)-lookback-1):\n",
    "            _x = X[i:i+lookback, :]\n",
    "            _y = y[i+lookback+1]\n",
    "            x_out.append(_x)\n",
    "            y_out.append(_y)\n",
    "            pbar.update(1)\n",
    "\n",
    "    print(\"Preparing numpy return. This could take some seconds.\")\n",
    "    return np.array(x_out), np.array(y_out)"
   ]
  },
  {
   "cell_type": "code",
   "execution_count": 12,
   "id": "4817c47e-769b-4f91-a525-12a81b22b132",
   "metadata": {},
   "outputs": [
    {
     "name": "stderr",
     "output_type": "stream",
     "text": [
      "100%|██████████| 13139994/13139994 [00:10<00:00, 1251313.21it/s]\n"
     ]
    },
    {
     "name": "stdout",
     "output_type": "stream",
     "text": [
      "Preparing numpy return. This could take some seconds.\n"
     ]
    },
    {
     "data": {
      "text/plain": [
       "((13139994, 5, 52), (13139994,))"
      ]
     },
     "execution_count": 12,
     "metadata": {},
     "output_type": "execute_result"
    }
   ],
   "source": [
    "_x, _y = create_samples(scaled_df.values, y)\n",
    "_x.shape, _y.shape"
   ]
  },
  {
   "cell_type": "markdown",
   "id": "71a4a550-912a-4a75-8a0c-1af5cb319cfe",
   "metadata": {},
   "source": [
    "### Scaler\n",
    "The recommended way (see 'Elements of Statistical Learning', chapter 'The Wrong and Right Way to Do Cross-validation') is to calculate the **mean** and the **standard deviation** of the values in the **training set** and then **apply them for standardizing both the training and testing sets**.\n",
    "\n",
    "The idea behind this is to preven**t data leaka**ge from the testing to the training set because the aim of model validation is to subject the testing data to the same conditions as the data used for the model training."
   ]
  },
  {
   "cell_type": "markdown",
   "id": "679a3aac-3b5f-45ca-a977-1bc9a1d58d74",
   "metadata": {},
   "source": [
    "[Link](https://datascience.stackexchange.com/questions/63717/how-to-use-standardization-standardscaler-for-train-and-test)"
   ]
  },
  {
   "cell_type": "code",
   "execution_count": 13,
   "id": "5ce063d4-f4c4-4606-a219-2aef1e8640b8",
   "metadata": {},
   "outputs": [],
   "source": [
    "X_train, X_test, y_train, y_test = train_test_split(_x, _y, test_size=0.3, random_state=1)"
   ]
  },
  {
   "cell_type": "markdown",
   "id": "7a8a2dc0-81e6-4f48-9f91-3a9daaa65341",
   "metadata": {},
   "source": [
    "# LSTM VAE"
   ]
  },
  {
   "cell_type": "markdown",
   "id": "f5a7d54e-2937-4659-9c1a-902976744fc9",
   "metadata": {},
   "source": [
    "### Encoder"
   ]
  },
  {
   "cell_type": "code",
   "execution_count": 15,
   "id": "cc9a3254-b672-4554-beab-31a7690adca5",
   "metadata": {
    "tags": []
   },
   "outputs": [],
   "source": [
    "class Encoder(nn.Module):\n",
    "    def __init__(self, input_size, hidden_size, num_layers):\n",
    "        super(Encoder, self).__init__()\n",
    "        self.hidden_size = hidden_size\n",
    "        self.num_layers = num_layers\n",
    "        self.lstm = nn.LSTM(\n",
    "            input_size=input_size,\n",
    "            hidden_size=hidden_size,\n",
    "            num_layers=num_layers,\n",
    "            batch_first=True,\n",
    "            bidirectional=False\n",
    "        )\n",
    "\n",
    "    def forward(self, X):\n",
    "        output, (hidden_state, cell_state) = self.lstm(X)\n",
    "        return hidden_state"
   ]
  },
  {
   "cell_type": "markdown",
   "id": "3d9055cb-99a1-428f-a674-86419529e039",
   "metadata": {},
   "source": [
    "### Decoder"
   ]
  },
  {
   "cell_type": "code",
   "execution_count": 16,
   "id": "caa8e0e8-7ab0-47b2-91d3-666d001dd4f0",
   "metadata": {
    "tags": []
   },
   "outputs": [],
   "source": [
    "class Decoder(nn.Module):\n",
    "    def __init__(self, input_size, hidden_size, num_layers, output_size):\n",
    "        super(Decoder, self).__init__()\n",
    "        self.hidden_size = hidden_size\n",
    "        self.num_layers = num_layers\n",
    "        self.lstm = nn.LSTM(\n",
    "            input_size=input_size,\n",
    "            hidden_size=hidden_size,\n",
    "            num_layers=num_layers,\n",
    "            batch_first=True,\n",
    "            bidirectional=False\n",
    "        )\n",
    "        # reconstruction\n",
    "        self.linear_recon = nn.Linear(hidden_size, output_size)\n",
    "\n",
    "    def forward(self, X):\n",
    "        output, (hidden_state, cell_state) = self.lstm(X)\n",
    "        return self.linear_recon(output)"
   ]
  },
  {
   "cell_type": "markdown",
   "id": "a1c87b16-432a-42a7-9af3-379924f0b369",
   "metadata": {},
   "source": [
    "### VAE"
   ]
  },
  {
   "cell_type": "code",
   "execution_count": 17,
   "id": "f7a3f5ea-3585-4f07-819f-98bbfdfd9d48",
   "metadata": {
    "tags": []
   },
   "outputs": [],
   "source": [
    "class VAE(nn.Module):\n",
    "    def __init__(self, input_size, hidden_size, latent_size, num_layers, device):\n",
    "        super(VAE, self).__init__()\n",
    "        self.input_size = input_size\n",
    "        self.hidden_size = hidden_size\n",
    "        self.num_layers = num_layers\n",
    "        self.latent_size = latent_size\n",
    "        self.device = device\n",
    "\n",
    "        self.encoder = Encoder(\n",
    "            input_size=input_size,\n",
    "            hidden_size=hidden_size,\n",
    "            num_layers=num_layers\n",
    "        ).to(self.device)\n",
    "\n",
    "        self.decoder = Decoder(\n",
    "            input_size=latent_size, # compressed vector size\n",
    "            hidden_size=hidden_size,\n",
    "            output_size=input_size, # reconstruction of features at timestep\n",
    "            num_layers=num_layers\n",
    "        ).to(self.device)\n",
    "\n",
    "        self.mean_linear = nn.Linear((self.hidden_size*self.num_layers), self.latent_size).to(self.device)\n",
    "        self.logvar_linear = nn.Linear((self.hidden_size*self.num_layers), self.latent_size).to(self.device)\n",
    "        #self.compressed_linear = nn.Linear(self.latent_size, self.hidden_size).to(self.device)\n",
    "\n",
    "    def reparametrize(self, mu, logvar):\n",
    "        std = torch.exp(0.5 * logvar)\n",
    "        # Gaussian (normal)\n",
    "        noise = torch.randn_like(std, device=self.device)\n",
    "        return mu + (noise * std)\n",
    "\n",
    "    def forward(self, X):\n",
    "        batch_size, seq_len, features_dim = X.shape\n",
    "\n",
    "        # encode\n",
    "        # tensor of shape: 1*num_layers, batch_size, hidden_size\n",
    "        enc_hidden = self.encoder(X)\n",
    "        enc_hidden = enc_hidden.transpose(0, 1).contiguous().view(batch_size, -1) # (batch_size, hidden_size*num_layers)\n",
    "\n",
    "        # extract latent variable z (hidden to latent)\n",
    "        _mean = self.mean_linear(enc_hidden)\n",
    "        _logvar = self.logvar_linear(enc_hidden)\n",
    "        _z = self.reparametrize(_mean, _logvar) # Shape: batch_size, latent_size\n",
    "        _z = _z.unsqueeze(1).repeat(1, seq_len, 1)\n",
    "\n",
    "        # hidden state\n",
    "        #_h = self.compressed_linear(_z) # batch_size, hidden_size\n",
    "        #_h = _h.unsqueeze(1).repeat(1, seq_len, 1)\n",
    "\n",
    "        pred = self.decoder(_z)\n",
    "\n",
    "        return pred, _mean, _logvar\n"
   ]
  },
  {
   "cell_type": "code",
   "execution_count": 18,
   "id": "423bc8ef-0dd2-425f-bd40-962712437a1d",
   "metadata": {
    "tags": []
   },
   "outputs": [],
   "source": [
    "def vae_loss(pred, label, _mean, _logvar):\n",
    "    #reconstruction_loss = nn.BCELoss(pred, label)\n",
    "    reconstruction_loss = F.mse_loss(pred, label)\n",
    "    kld_loss = torch.mean(\n",
    "            -0.5 * torch.sum(1 + _logvar - _mean**2 - _logvar.exp(), dim=1), dim=0\n",
    "        )\n",
    "    loss = reconstruction_loss + kld_loss #*kld_weight\n",
    "    return loss, reconstruction_loss"
   ]
  },
  {
   "cell_type": "code",
   "execution_count": 19,
   "id": "b1cb3932-605a-4cfe-bfee-bb72d10a1a71",
   "metadata": {
    "tags": []
   },
   "outputs": [
    {
     "data": {
      "text/plain": [
       "device(type='cuda')"
      ]
     },
     "execution_count": 19,
     "metadata": {},
     "output_type": "execute_result"
    }
   ],
   "source": [
    "device = torch.device(\"cuda\" if torch.cuda.is_available() else \"cpu\")\n",
    "device"
   ]
  },
  {
   "cell_type": "code",
   "execution_count": 20,
   "id": "2cb6dd49-1a2d-4a8f-864b-88e3ff32b536",
   "metadata": {
    "tags": []
   },
   "outputs": [],
   "source": [
    "class TEP(Dataset):\n",
    "    def __init__(self, x, y):\n",
    "        super(TEP, self).__init__()\n",
    "        self.x = x\n",
    "        self.y = y\n",
    "\n",
    "    def __len__(self):\n",
    "        return len(self.x)\n",
    "\n",
    "    def __getitem__(self, idx):\n",
    "        _x = self.x[idx]\n",
    "        _y = self.y[idx]\n",
    "        return _x, _y"
   ]
  },
  {
   "cell_type": "code",
   "execution_count": 64,
   "id": "ea0cdb39-8e2d-4721-8883-3b2413c30046",
   "metadata": {
    "tags": []
   },
   "outputs": [],
   "source": [
    "train_data = TEP(X_train[:50_000], y_train[:50_000])\n",
    "trainloader = DataLoader(train_data, batch_size=256, shuffle=True)"
   ]
  },
  {
   "cell_type": "code",
   "execution_count": 65,
   "id": "fa60e60f-9cc4-4c6c-89c9-835f762ae1cb",
   "metadata": {
    "tags": []
   },
   "outputs": [],
   "source": [
    "test_data = TEP(X_test[:3_000], y_test[:3_000])\n",
    "testloader = DataLoader(test_data, batch_size=256)"
   ]
  },
  {
   "cell_type": "code",
   "execution_count": 78,
   "id": "745a90df-f5ef-4608-a0d5-dceb44db44b7",
   "metadata": {
    "tags": []
   },
   "outputs": [
    {
     "name": "stderr",
     "output_type": "stream",
     "text": [
      "100%|██████████| 196/196 [00:08<00:00, 22.58it/s]\n"
     ]
    },
    {
     "name": "stdout",
     "output_type": "stream",
     "text": [
      "Epoch 1 - train loss: 1.0262211615941963 - test loss: 1.0440128992001216\n"
     ]
    },
    {
     "name": "stderr",
     "output_type": "stream",
     "text": [
      "100%|██████████| 196/196 [00:08<00:00, 22.59it/s]\n"
     ]
    },
    {
     "name": "stdout",
     "output_type": "stream",
     "text": [
      "Epoch 2 - train loss: 1.019563110203159 - test loss: 1.040674274166425\n"
     ]
    },
    {
     "name": "stderr",
     "output_type": "stream",
     "text": [
      "100%|██████████| 196/196 [00:08<00:00, 22.53it/s]\n"
     ]
    },
    {
     "name": "stdout",
     "output_type": "stream",
     "text": [
      "Epoch 3 - train loss: 1.0173175973551614 - test loss: 1.0393550793329875\n"
     ]
    },
    {
     "name": "stderr",
     "output_type": "stream",
     "text": [
      "100%|██████████| 196/196 [00:08<00:00, 22.40it/s]\n"
     ]
    },
    {
     "name": "stdout",
     "output_type": "stream",
     "text": [
      "Epoch 4 - train loss: 1.0158756478708617 - test loss: 1.038510615626971\n"
     ]
    },
    {
     "name": "stderr",
     "output_type": "stream",
     "text": [
      "100%|██████████| 196/196 [00:08<00:00, 22.42it/s]\n"
     ]
    },
    {
     "name": "stdout",
     "output_type": "stream",
     "text": [
      "Epoch 5 - train loss: 1.015900888309187 - test loss: 1.0378666917483013\n"
     ]
    },
    {
     "name": "stderr",
     "output_type": "stream",
     "text": [
      "100%|██████████| 196/196 [00:08<00:00, 22.54it/s]\n"
     ]
    },
    {
     "name": "stdout",
     "output_type": "stream",
     "text": [
      "Epoch 6 - train loss: 1.01357140559323 - test loss: 1.0373390465974808\n"
     ]
    },
    {
     "name": "stderr",
     "output_type": "stream",
     "text": [
      "100%|██████████| 196/196 [00:08<00:00, 22.53it/s]\n"
     ]
    },
    {
     "name": "stdout",
     "output_type": "stream",
     "text": [
      "Epoch 7 - train loss: 1.0146201493180529 - test loss: 1.036892871061961\n"
     ]
    },
    {
     "name": "stderr",
     "output_type": "stream",
     "text": [
      "100%|██████████| 196/196 [00:08<00:00, 22.40it/s]\n"
     ]
    },
    {
     "name": "stdout",
     "output_type": "stream",
     "text": [
      "Epoch 8 - train loss: 1.0134001958126924 - test loss: 1.0365051726500194\n"
     ]
    },
    {
     "name": "stderr",
     "output_type": "stream",
     "text": [
      "100%|██████████| 196/196 [00:08<00:00, 22.53it/s]\n"
     ]
    },
    {
     "name": "stdout",
     "output_type": "stream",
     "text": [
      "Epoch 9 - train loss: 1.0124033805058927 - test loss: 1.0361658036708832\n"
     ]
    },
    {
     "name": "stderr",
     "output_type": "stream",
     "text": [
      "100%|██████████| 196/196 [00:08<00:00, 22.54it/s]"
     ]
    },
    {
     "name": "stdout",
     "output_type": "stream",
     "text": [
      "Epoch 10 - train loss: 1.0128131980190471 - test loss: 1.0358630518118541\n"
     ]
    },
    {
     "name": "stderr",
     "output_type": "stream",
     "text": [
      "\n"
     ]
    }
   ],
   "source": [
    "num_epochs = 10\n",
    "\n",
    "# model\n",
    "learning_rate = 0.0002\n",
    "model = VAE(input_size=52, hidden_size=128, latent_size=32, num_layers=12, device=device)\n",
    "optimizer = torch.optim.SGD(model.parameters(), lr=learning_rate, momentum=0.9)\n",
    "\n",
    "model.train()\n",
    "train_losses = []\n",
    "test_losses = []\n",
    "for i in range(num_epochs):\n",
    "    _train_losses = []\n",
    "    _test_losses = []\n",
    "    with tqdm(total=len(trainloader)) as pbar:\n",
    "        for x, y in trainloader:\n",
    "            x = x.to(torch.float32).to(device)\n",
    "            pred, _mean, _logvar = model(x)\n",
    "            loss, reconstruction_loss = vae_loss(pred, x, _mean, _logvar)\n",
    "\n",
    "            optimizer.zero_grad()\n",
    "            loss.backward()\n",
    "            optimizer.step()\n",
    "\n",
    "            _r = loss.detach().item()\n",
    "            _train_losses.append(_r)\n",
    "\n",
    "            pbar.update(1)\n",
    "        \n",
    "        for x, y in testloader:\n",
    "            x = x.to(torch.float32).to(device)\n",
    "            with torch.no_grad():\n",
    "                pred, _mean, _logvar = model(x)\n",
    "            loss, reconstruction_loss = vae_loss(pred, x, _mean, _logvar)\n",
    "            _r = loss.detach().item()\n",
    "            _test_losses.append(_r)\n",
    "\n",
    "        # epoch losses\n",
    "        e_train = np.mean(_train_losses)\n",
    "        e_test = np.mean(_test_losses)\n",
    "        train_losses.append(e_train)\n",
    "        test_losses.append(e_test)\n",
    "            \n",
    "                \n",
    "        print(f\"Epoch {i+1} - train loss: {e_train} - test loss: {e_test}\")\n",
    "        torch.save(model.state_dict(), \"./model/model.pt\")\n",
    "        torch.save(optimizer.state_dict(), \"./model/optimizer.pt\")"
   ]
  },
  {
   "cell_type": "code",
   "execution_count": 79,
   "id": "b64ced1f-bea8-479e-815a-b8c2297d0bd4",
   "metadata": {
    "tags": []
   },
   "outputs": [
    {
     "data": {
      "image/png": "[encoded data removed]",
      "text/plain": [
       "<Figure size 640x480 with 1 Axes>"
      ]
     },
     "metadata": {},
     "output_type": "display_data"
    }
   ],
   "source": [
    "plt.plot(train_losses, label=\"train loss\")\n",
    "plt.plot(test_losses, label=\"test loss\")\n",
    "plt.legend()\n",
    "plt.show()"
   ]
  }
 ],
 "metadata": {
  "kernelspec": {
   "display_name": "Python 3 (ipykernel)",
   "language": "python",
   "name": "python3"
  },
  "language_info": {
   "codemirror_mode": {
    "name": "ipython",
    "version": 3
   },
   "file_extension": ".py",
   "mimetype": "text/x-python",
   "name": "python",
   "nbconvert_exporter": "python",
   "pygments_lexer": "ipython3",
   "version": "3.10.11"
  }
 },
 "nbformat": 4,
 "nbformat_minor": 5
}
