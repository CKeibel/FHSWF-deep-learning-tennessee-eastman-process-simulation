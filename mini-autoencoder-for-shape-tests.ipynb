{
 "cells": [
  {
   "cell_type": "code",
   "execution_count": 5,
   "id": "ab685474-7b3b-4308-b33d-aa569e59e7e7",
   "metadata": {},
   "outputs": [],
   "source": [
    "import torch\n",
    "import torch.nn.functional as F\n",
    "import torch.nn as nn"
   ]
  },
  {
   "cell_type": "code",
   "execution_count": 22,
   "id": "02dac649-5447-461c-ab71-f269b01d9152",
   "metadata": {},
   "outputs": [],
   "source": [
    "# Mini AE\n",
    "\n",
    "# data\n",
    "batch = 10\n",
    "seq_len = 5\n",
    "num_features = 3\n",
    "\n",
    "_data = torch.rand(batch, seq_len, num_features)\n",
    "\n",
    "# network\n",
    "hidden = 35\n",
    "compressed = 15\n",
    "\n",
    "# features\n",
    "_encoder = nn.LSTM(\n",
    "    input_size=num_features,\n",
    "    hidden_size=hidden,\n",
    "    num_layers=3,\n",
    "    batch_first=True\n",
    ")\n",
    "\n",
    "_latent = nn.Linear(hidden*3, compressed)\n",
    "\n",
    "_decoder = nn.LSTM(\n",
    "    input_size=compressed,\n",
    "    hidden_size=hidden,\n",
    "    num_layers=3,\n",
    "    batch_first=True\n",
    ")\n",
    "\n",
    "_recon = nn.Linear(hidden, num_features)"
   ]
  },
  {
   "cell_type": "code",
   "execution_count": 24,
   "id": "6aaa18a9-8bf7-4d5b-a286-58868178ce9a",
   "metadata": {},
   "outputs": [],
   "source": [
    "_o, (_h, _c) = _encoder(_data)\n",
    "_h = _h.transpose(0, 1).contiguous().view(batch, -1)\n",
    "_h = _latent(_h) # batch, compressed\n",
    "\n",
    "# seq, latent\n",
    "_h.unsqueeze(1).repeat(1, seq_len, 1)\n",
    "_o, (_h, _c) = _decoder(_h)\n",
    "\n",
    "_r = _recon(_o)"
   ]
  },
  {
   "cell_type": "code",
   "execution_count": 25,
   "id": "2230db26-fda6-4c9e-8219-a592530cf800",
   "metadata": {},
   "outputs": [
    {
     "data": {
      "text/plain": [
       "torch.Size([10, 35])"
      ]
     },
     "execution_count": 25,
     "metadata": {},
     "output_type": "execute_result"
    }
   ],
   "source": [
    "_o.shape"
   ]
  },
  {
   "cell_type": "code",
   "execution_count": 26,
   "id": "21e4118d-6673-4520-b31f-ae250e2aa152",
   "metadata": {},
   "outputs": [
    {
     "data": {
      "text/plain": [
       "torch.Size([10, 3])"
      ]
     },
     "execution_count": 26,
     "metadata": {},
     "output_type": "execute_result"
    }
   ],
   "source": [
    "_r.shape"
   ]
  }
 ],
 "metadata": {
  "kernelspec": {
   "display_name": ".tep-deep-learning",
   "language": "python",
   "name": ".tep-deep-learning"
  },
  "language_info": {
   "codemirror_mode": {
    "name": "ipython",
    "version": 3
   },
   "file_extension": ".py",
   "mimetype": "text/x-python",
   "name": "python",
   "nbconvert_exporter": "python",
   "pygments_lexer": "ipython3",
   "version": "3.11.0"
  }
 },
 "nbformat": 4,
 "nbformat_minor": 5
}
